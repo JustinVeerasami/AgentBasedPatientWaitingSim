{
  "nbformat": 4,
  "nbformat_minor": 0,
  "metadata": {
    "colab": {
      "provenance": []
    },
    "kernelspec": {
      "name": "python3",
      "display_name": "Python 3"
    },
    "language_info": {
      "name": "python"
    }
  },
  "cells": [
    {
      "cell_type": "code",
      "source": [
        "# !pip install agentpy"
      ],
      "metadata": {
        "colab": {
          "base_uri": "https://localhost:8080/"
        },
        "id": "P-km-fwzf_h-",
        "outputId": "6dfbb7d9-485e-4ee9-efd9-35524a3cbe38"
      },
      "execution_count": 2,
      "outputs": [
        {
          "output_type": "stream",
          "name": "stdout",
          "text": [
            "Collecting agentpy\n",
            "  Downloading agentpy-0.1.5-py3-none-any.whl.metadata (3.3 kB)\n",
            "Requirement already satisfied: numpy>=1.19 in /usr/local/lib/python3.10/dist-packages (from agentpy) (1.26.4)\n",
            "Requirement already satisfied: scipy>=1.5.2 in /usr/local/lib/python3.10/dist-packages (from agentpy) (1.13.1)\n",
            "Requirement already satisfied: matplotlib>=3.3.3 in /usr/local/lib/python3.10/dist-packages (from agentpy) (3.8.0)\n",
            "Requirement already satisfied: networkx>=2.5 in /usr/local/lib/python3.10/dist-packages (from agentpy) (3.4.2)\n",
            "Requirement already satisfied: pandas>=1.1.3 in /usr/local/lib/python3.10/dist-packages (from agentpy) (2.2.2)\n",
            "Collecting SALib>=1.3.7 (from agentpy)\n",
            "  Downloading salib-1.5.1-py3-none-any.whl.metadata (11 kB)\n",
            "Requirement already satisfied: joblib>=1.1.0 in /usr/local/lib/python3.10/dist-packages (from agentpy) (1.4.2)\n",
            "Requirement already satisfied: contourpy>=1.0.1 in /usr/local/lib/python3.10/dist-packages (from matplotlib>=3.3.3->agentpy) (1.3.1)\n",
            "Requirement already satisfied: cycler>=0.10 in /usr/local/lib/python3.10/dist-packages (from matplotlib>=3.3.3->agentpy) (0.12.1)\n",
            "Requirement already satisfied: fonttools>=4.22.0 in /usr/local/lib/python3.10/dist-packages (from matplotlib>=3.3.3->agentpy) (4.55.0)\n",
            "Requirement already satisfied: kiwisolver>=1.0.1 in /usr/local/lib/python3.10/dist-packages (from matplotlib>=3.3.3->agentpy) (1.4.7)\n",
            "Requirement already satisfied: packaging>=20.0 in /usr/local/lib/python3.10/dist-packages (from matplotlib>=3.3.3->agentpy) (24.2)\n",
            "Requirement already satisfied: pillow>=6.2.0 in /usr/local/lib/python3.10/dist-packages (from matplotlib>=3.3.3->agentpy) (11.0.0)\n",
            "Requirement already satisfied: pyparsing>=2.3.1 in /usr/local/lib/python3.10/dist-packages (from matplotlib>=3.3.3->agentpy) (3.2.0)\n",
            "Requirement already satisfied: python-dateutil>=2.7 in /usr/local/lib/python3.10/dist-packages (from matplotlib>=3.3.3->agentpy) (2.8.2)\n",
            "Requirement already satisfied: pytz>=2020.1 in /usr/local/lib/python3.10/dist-packages (from pandas>=1.1.3->agentpy) (2024.2)\n",
            "Requirement already satisfied: tzdata>=2022.7 in /usr/local/lib/python3.10/dist-packages (from pandas>=1.1.3->agentpy) (2024.2)\n",
            "Collecting multiprocess (from SALib>=1.3.7->agentpy)\n",
            "  Downloading multiprocess-0.70.17-py310-none-any.whl.metadata (7.2 kB)\n",
            "Requirement already satisfied: six>=1.5 in /usr/local/lib/python3.10/dist-packages (from python-dateutil>=2.7->matplotlib>=3.3.3->agentpy) (1.16.0)\n",
            "Collecting dill>=0.3.9 (from multiprocess->SALib>=1.3.7->agentpy)\n",
            "  Downloading dill-0.3.9-py3-none-any.whl.metadata (10 kB)\n",
            "Downloading agentpy-0.1.5-py3-none-any.whl (53 kB)\n",
            "\u001b[2K   \u001b[90m━━━━━━━━━━━━━━━━━━━━━━━━━━━━━━━━━━━━━━━━\u001b[0m \u001b[32m53.9/53.9 kB\u001b[0m \u001b[31m2.1 MB/s\u001b[0m eta \u001b[36m0:00:00\u001b[0m\n",
            "\u001b[?25hDownloading salib-1.5.1-py3-none-any.whl (778 kB)\n",
            "\u001b[2K   \u001b[90m━━━━━━━━━━━━━━━━━━━━━━━━━━━━━━━━━━━━━━━━\u001b[0m \u001b[32m778.9/778.9 kB\u001b[0m \u001b[31m15.2 MB/s\u001b[0m eta \u001b[36m0:00:00\u001b[0m\n",
            "\u001b[?25hDownloading multiprocess-0.70.17-py310-none-any.whl (134 kB)\n",
            "\u001b[2K   \u001b[90m━━━━━━━━━━━━━━━━━━━━━━━━━━━━━━━━━━━━━━━━\u001b[0m \u001b[32m134.8/134.8 kB\u001b[0m \u001b[31m10.0 MB/s\u001b[0m eta \u001b[36m0:00:00\u001b[0m\n",
            "\u001b[?25hDownloading dill-0.3.9-py3-none-any.whl (119 kB)\n",
            "\u001b[2K   \u001b[90m━━━━━━━━━━━━━━━━━━━━━━━━━━━━━━━━━━━━━━━━\u001b[0m \u001b[32m119.4/119.4 kB\u001b[0m \u001b[31m8.7 MB/s\u001b[0m eta \u001b[36m0:00:00\u001b[0m\n",
            "\u001b[?25hInstalling collected packages: dill, multiprocess, SALib, agentpy\n",
            "Successfully installed SALib-1.5.1 agentpy-0.1.5 dill-0.3.9 multiprocess-0.70.17\n"
          ]
        }
      ]
    },
    {
      "cell_type": "code",
      "execution_count": 11,
      "metadata": {
        "colab": {
          "base_uri": "https://localhost:8080/",
          "height": 545
        },
        "id": "BMtqTbBYerPE",
        "outputId": "ea92cb15-ad09-4b12-f4a0-48277305ef58"
      },
      "outputs": [
        {
          "output_type": "display_data",
          "data": {
            "text/plain": [
              "<Figure size 1200x600 with 1 Axes>"
            ],
            "image/png": "[encoded data removed]"
          },
          "metadata": {}
        }
      ],
      "source": [
        "import matplotlib.pyplot as plt\n",
        "import matplotlib.patches as patches\n",
        "import random\n",
        "\n",
        "class Hospital:\n",
        "    def __init__(self, ward_count=1, ward_size=(10, 20)):\n",
        "        \"\"\"\n",
        "        Initialize the hospital with adjustable number of wards and default size.\n",
        "\n",
        "        Args:\n",
        "            ward_count (int): Number of wards in the hospital.\n",
        "            ward_size (tuple): (width, height) of each ward.\n",
        "        \"\"\"\n",
        "        self.ward_count = ward_count\n",
        "        self.ward_size = ward_size\n",
        "        self.wards = []\n",
        "        self._create_wards()\n",
        "\n",
        "    def _create_wards(self):\n",
        "        \"\"\"Generate wards as rectangles with randomly spaced beds inside.\"\"\"\n",
        "        for i in range(self.ward_count):\n",
        "            x_offset = i * (self.ward_size[0] + 2)  # Adjust spacing between wards\n",
        "            ward = {\n",
        "                \"x\": x_offset,\n",
        "                \"y\": 0,\n",
        "                \"width\": self.ward_size[0],\n",
        "                \"height\": self.ward_size[1],\n",
        "                \"beds\": []\n",
        "            }\n",
        "            # Add a limited number of randomly placed beds\n",
        "            num_beds = random.randint(5, 10)  # Random number of beds per ward\n",
        "            for _ in range(num_beds):\n",
        "                bed_x = random.uniform(x_offset + 1, x_offset + self.ward_size[0] - 1)\n",
        "                bed_y = random.uniform(1, self.ward_size[1] - 1)\n",
        "                ward[\"beds\"].append((bed_x, bed_y))\n",
        "            self.wards.append(ward)\n",
        "\n",
        "    def display(self):\n",
        "        \"\"\"Visualize the hospital wards and their beds.\"\"\"\n",
        "        fig, ax = plt.subplots(figsize=(12, 6))\n",
        "        for ward in self.wards:\n",
        "            # Draw the ward as a rectangle\n",
        "            ward_rect = patches.Rectangle(\n",
        "                (ward[\"x\"], ward[\"y\"]),\n",
        "                ward[\"width\"],\n",
        "                ward[\"height\"],\n",
        "                edgecolor='black',\n",
        "                facecolor='lightgrey'\n",
        "            )\n",
        "            ax.add_patch(ward_rect)\n",
        "            # Draw the beds as smaller squares randomly spread inside the ward\n",
        "            for bed in ward[\"beds\"]:\n",
        "                bed_rect = patches.Rectangle(\n",
        "                    (bed[0] - 0.3, bed[1] - 0.3),  # Slightly smaller and spread out\n",
        "                    0.6,\n",
        "                    0.6,\n",
        "                    edgecolor='blue',\n",
        "                    facecolor='white'\n",
        "                )\n",
        "                ax.add_patch(bed_rect)\n",
        "        # Set the plot limits and aspect\n",
        "        ax.set_xlim(-1, self.ward_count * (self.ward_size[0] + 2))\n",
        "        ax.set_ylim(-1, self.ward_size[1] + 1)\n",
        "        ax.set_aspect('equal')\n",
        "        plt.title(\"Hospital Layout with Randomized Bed Placement\")\n",
        "        plt.show()\n",
        "\n",
        "# Example usage\n",
        "hospital = Hospital(ward_count=2, ward_size=(10, 20))\n",
        "hospital.display()\n"
      ]
    }
  ]
}